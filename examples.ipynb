{
 "cells": [
  {
   "cell_type": "markdown",
   "id": "12c3be48",
   "metadata": {},
   "source": [
    "# PyAndHold - Portfolio Analysis Examples\n",
    "\n",
    "This notebook provides clean, simple examples of portfolio optimization and analysis.\n",
    "\n",
    "**Structure:**\n",
    "1. Imports\n",
    "2. Configuration (portfolios to test)\n",
    "3. Analysis outputs (charts & tables)\n",
    "4. Optimization examples"
   ]
  },
  {
   "cell_type": "markdown",
   "id": "6fe86c59",
   "metadata": {},
   "source": [
    "## 1. Imports"
   ]
  },
  {
   "cell_type": "code",
   "execution_count": null,
   "id": "595e89b3",
   "metadata": {},
   "outputs": [],
   "source": [
    "# Core imports\n",
    "import pandas as pd\n",
    "import numpy as np\n",
    "from datetime import datetime\n",
    "\n",
    "# PyAndHold imports\n",
    "from pyandhold import Portfolio, DataDownloader, PortfolioOptimizer\n",
    "from pyandhold.visualization import PortfolioVisualizer"
   ]
  },
  {
   "cell_type": "markdown",
   "id": "1d216545",
   "metadata": {},
   "source": [
    "## 2. Configuration\n",
    "\n",
    "Define portfolios to analyze. Comment out portfolios you don't want to test."
   ]
  },
  {
   "cell_type": "code",
   "execution_count": null,
   "id": "aaf5ef6d",
   "metadata": {},
   "outputs": [],
   "source": [
    "# Portfolio 1: Equal Weight Tech Portfolio\n",
    "tech_weights = {\n",
    "    'AAPL': 0.25,\n",
    "    'MSFT': 0.25,\n",
    "    'GOOGL': 0.25,\n",
    "    'AMZN': 0.25\n",
    "}\n",
    "\n",
    "# Portfolio 2: Diversified Portfolio\n",
    "diversified_weights = {\n",
    "    'AAPL': 0.15,\n",
    "    'MSFT': 0.15,\n",
    "    'JPM': 0.10,\n",
    "    'JNJ': 0.10,\n",
    "    'GLD': 0.15,\n",
    "    'TLT': 0.20,\n",
    "    'VNQ': 0.15\n",
    "}\n",
    "\n",
    "# Portfolio 3: 60/40 Classic\n",
    "classic_60_40 = {\n",
    "    'SPY': 0.60,  # S&P 500\n",
    "    'TLT': 0.40   # 20+ Year Treasury Bonds\n",
    "}\n",
    "\n",
    "# Common parameters\n",
    "start_date = '2020-01-01'\n",
    "end_date = '2023-12-31'\n",
    "initial_capital = 100000\n",
    "rebalance_freq = 'Q'  # Q=Quarterly, M=Monthly, Y=Yearly, None=Buy&Hold"
   ]
  },
  {
   "cell_type": "markdown",
   "id": "f5129cff",
   "metadata": {},
   "source": [
    "## 3. Analysis & Visualizations\n",
    "\n",
    "Choose which portfolio to analyze and what outputs to generate."
   ]
  },
  {
   "cell_type": "code",
   "execution_count": null,
   "id": "8e94f168",
   "metadata": {},
   "outputs": [],
   "source": [
    "# Select portfolio to analyze\n",
    "weights_to_analyze = tech_weights  # Change this to test different portfolios\n",
    "\n",
    "# Create portfolio\n",
    "portfolio = Portfolio(\n",
    "    weights=weights_to_analyze,\n",
    "    start_date=start_date,\n",
    "    end_date=end_date,\n",
    "    initial_capital=initial_capital,\n",
    "    rebalance_frequency=rebalance_freq\n",
    ")\n",
    "\n",
    "# Calculate metrics\n",
    "metrics = portfolio.calculate_metrics()\n",
    "portfolio_value = portfolio.calculate_portfolio_value()\n",
    "\n",
    "print(\"Portfolio Metrics:\")\n",
    "print(f\"  Total Return: {metrics['total_return']:.2%}\")\n",
    "print(f\"  Annualized Return: {metrics['annualized_return']:.2%}\")\n",
    "print(f\"  Volatility: {metrics['volatility']:.2%}\")\n",
    "print(f\"  Sharpe Ratio: {metrics['sharpe_ratio']:.3f}\")\n",
    "print(f\"  Max Drawdown: {metrics['max_drawdown']:.2%}\")\n",
    "print(f\"  Sortino Ratio: {metrics['sortino_ratio']:.3f}\")"
   ]
  },
  {
   "cell_type": "markdown",
   "id": "a44d99f7",
   "metadata": {},
   "source": [
    "### 3.1 Performance Chart"
   ]
  },
  {
   "cell_type": "code",
   "execution_count": null,
   "id": "9ecf4505",
   "metadata": {},
   "outputs": [],
   "source": [
    "visualizer = PortfolioVisualizer()\n",
    "\n",
    "# Portfolio performance over time\n",
    "perf_fig = visualizer.plot_performance(\n",
    "    portfolio_value,\n",
    "    title=\"Portfolio Value Over Time\"\n",
    ")\n",
    "perf_fig.show()"
   ]
  },
  {
   "cell_type": "markdown",
   "id": "d9b95807",
   "metadata": {},
   "source": [
    "### 3.2 Returns Distribution"
   ]
  },
  {
   "cell_type": "code",
   "execution_count": null,
   "id": "83e470be",
   "metadata": {},
   "outputs": [],
   "source": [
    "# Returns distribution histogram\n",
    "dist_fig = visualizer.plot_returns_distribution(\n",
    "    portfolio.portfolio_returns,\n",
    "    title=\"Daily Returns Distribution\"\n",
    ")\n",
    "dist_fig.show()"
   ]
  },
  {
   "cell_type": "markdown",
   "id": "10e2e98f",
   "metadata": {},
   "source": [
    "### 3.3 Drawdown Chart"
   ]
  },
  {
   "cell_type": "code",
   "execution_count": null,
   "id": "737945d8",
   "metadata": {},
   "outputs": [],
   "source": [
    "# Drawdown over time\n",
    "dd_fig = visualizer.plot_drawdown(\n",
    "    portfolio_value,\n",
    "    title=\"Portfolio Drawdown\"\n",
    ")\n",
    "dd_fig.show()"
   ]
  },
  {
   "cell_type": "markdown",
   "id": "28afa824",
   "metadata": {},
   "source": [
    "### 3.4 Portfolio Weights"
   ]
  },
  {
   "cell_type": "code",
   "execution_count": null,
   "id": "c48269be",
   "metadata": {},
   "outputs": [],
   "source": [
    "# Pie chart of weights\n",
    "pie_fig = visualizer.plot_weights_pie(\n",
    "    weights_to_analyze,\n",
    "    title=\"Portfolio Allocation\"\n",
    ")\n",
    "pie_fig.show()\n",
    "\n",
    "# Table of weights\n",
    "weights_df = pd.DataFrame([\n",
    "    {\"Ticker\": ticker, \"Weight\": f\"{weight*100:.2f}%\"}\n",
    "    for ticker, weight in sorted(weights_to_analyze.items(), key=lambda x: x[1], reverse=True)\n",
    "])\n",
    "display(weights_df)"
   ]
  },
  {
   "cell_type": "markdown",
   "id": "04469ed5",
   "metadata": {},
   "source": [
    "### 3.5 Correlation Heatmap"
   ]
  },
  {
   "cell_type": "code",
   "execution_count": null,
   "id": "a310a841",
   "metadata": {},
   "outputs": [],
   "source": [
    "# Asset correlation\n",
    "corr_matrix = portfolio.get_correlation_matrix()\n",
    "corr_fig = visualizer.plot_correlation_heatmap(\n",
    "    corr_matrix,\n",
    "    title=\"Asset Correlations\"\n",
    ")\n",
    "corr_fig.show()"
   ]
  },
  {
   "cell_type": "markdown",
   "id": "f3f7380d",
   "metadata": {},
   "source": [
    "### 3.6 Rolling Metrics (Optional)"
   ]
  },
  {
   "cell_type": "code",
   "execution_count": null,
   "id": "64b3a4d7",
   "metadata": {},
   "outputs": [],
   "source": [
    "# Rolling Sharpe Ratio (63-day window ~ 3 months)\n",
    "window = 63\n",
    "returns = portfolio.portfolio_returns\n",
    "\n",
    "if len(returns) >= window:\n",
    "    rolling_mean = returns.rolling(window).mean()\n",
    "    rolling_std = returns.rolling(window).std()\n",
    "    rolling_sharpe = rolling_mean / rolling_std * np.sqrt(252)\n",
    "    \n",
    "    sharpe_fig = visualizer.plot_single_metric_timeseries(\n",
    "        rolling_sharpe,\n",
    "        title=\"63-Day Rolling Sharpe Ratio\",\n",
    "        y_label=\"Sharpe Ratio\",\n",
    "        color='green',\n",
    "        show_mean=True\n",
    "    )\n",
    "    sharpe_fig.show()"
   ]
  },
  {
   "cell_type": "markdown",
   "id": "585d4c1f",
   "metadata": {},
   "source": [
    "## 4. Portfolio Optimization\n",
    "\n",
    "Optimize portfolios using different strategies. Uncomment the ones you want to test."
   ]
  },
  {
   "cell_type": "code",
   "execution_count": null,
   "id": "cf2c804d",
   "metadata": {},
   "outputs": [],
   "source": [
    "# Download returns data for optimization\n",
    "downloader = DataDownloader()\n",
    "\n",
    "# Define asset universe\n",
    "tickers = ['AAPL', 'MSFT', 'GOOGL', 'AMZN', 'JPM', 'JNJ', 'GLD', 'TLT']\n",
    "\n",
    "returns = downloader.download_returns(\n",
    "    tickers,\n",
    "    start_date=start_date,\n",
    "    end_date=end_date\n",
    ")\n",
    "\n",
    "# Initialize optimizer\n",
    "optimizer = PortfolioOptimizer(returns)"
   ]
  },
  {
   "cell_type": "markdown",
   "id": "ee81a8d6",
   "metadata": {},
   "source": [
    "### 4.1 Maximum Sharpe Ratio"
   ]
  },
  {
   "cell_type": "code",
   "execution_count": null,
   "id": "377cb99c",
   "metadata": {},
   "outputs": [],
   "source": [
    "# Optimize for maximum Sharpe ratio\n",
    "max_sharpe_weights = optimizer.optimize_sharpe(\n",
    "    weight_bounds=(0.0, 0.4)  # Min 0%, Max 40% per asset\n",
    ")\n",
    "\n",
    "print(\"Maximum Sharpe Ratio Portfolio:\")\n",
    "for ticker, weight in sorted(max_sharpe_weights.items(), key=lambda x: x[1], reverse=True):\n",
    "    if weight > 0.01:  # Only show weights > 1%\n",
    "        print(f\"  {ticker}: {weight:.2%}\")"
   ]
  },
  {
   "cell_type": "markdown",
   "id": "94af56d2",
   "metadata": {},
   "source": [
    "### 4.2 Minimum Variance"
   ]
  },
  {
   "cell_type": "code",
   "execution_count": null,
   "id": "99d7b061",
   "metadata": {},
   "outputs": [],
   "source": [
    "# Optimize for minimum variance (lowest risk)\n",
    "min_var_weights = optimizer.optimize_min_variance(\n",
    "    weight_bounds=(0.0, 1.0)\n",
    ")\n",
    "\n",
    "print(\"Minimum Variance Portfolio:\")\n",
    "for ticker, weight in sorted(min_var_weights.items(), key=lambda x: x[1], reverse=True):\n",
    "    if weight > 0.01:\n",
    "        print(f\"  {ticker}: {weight:.2%}\")"
   ]
  },
  {
   "cell_type": "markdown",
   "id": "f5908c9e",
   "metadata": {},
   "source": [
    "### 4.3 Risk Parity"
   ]
  },
  {
   "cell_type": "code",
   "execution_count": null,
   "id": "1e50aa9f",
   "metadata": {},
   "outputs": [],
   "source": [
    "# Risk parity - equal risk contribution from each asset\n",
    "risk_parity_weights = optimizer.optimize_risk_parity(\n",
    "    weight_bounds=(0.0, 0.5)\n",
    ")\n",
    "\n",
    "print(\"Risk Parity Portfolio:\")\n",
    "for ticker, weight in sorted(risk_parity_weights.items(), key=lambda x: x[1], reverse=True):\n",
    "    if weight > 0.01:\n",
    "        print(f\"  {ticker}: {weight:.2%}\")"
   ]
  },
  {
   "cell_type": "markdown",
   "id": "71a0ac4f",
   "metadata": {},
   "source": [
    "### 4.4 Maximum Return with Volatility Constraint"
   ]
  },
  {
   "cell_type": "code",
   "execution_count": null,
   "id": "ff8101ff",
   "metadata": {},
   "outputs": [],
   "source": [
    "# # Optimize for maximum return with volatility limit\n",
    "# max_return_weights = optimizer.optimize_max_return(\n",
    "#     max_volatility=0.20,  # Max 20% annual volatility\n",
    "#     weight_bounds=(0.0, 1.0)\n",
    "# )\n",
    "\n",
    "# print(\"Maximum Return Portfolio (vol ≤ 20%):\")\n",
    "# for ticker, weight in sorted(max_return_weights.items(), key=lambda x: x[1], reverse=True):\n",
    "#     if weight > 0.01:\n",
    "#         print(f\"  {ticker}: {weight:.2%}\")"
   ]
  },
  {
   "cell_type": "markdown",
   "id": "b3cb7499",
   "metadata": {},
   "source": [
    "### 4.5 Efficient Frontier"
   ]
  },
  {
   "cell_type": "code",
   "execution_count": null,
   "id": "ea83ad9c",
   "metadata": {},
   "outputs": [],
   "source": [
    "# Calculate efficient frontier\n",
    "frontier = optimizer.efficient_frontier(\n",
    "    n_portfolios=30,\n",
    "    weight_bounds=(0.0, 1.0)\n",
    ")\n",
    "\n",
    "# Plot efficient frontier\n",
    "ef_fig = visualizer.plot_efficient_frontier(frontier)\n",
    "ef_fig.show()"
   ]
  },
  {
   "cell_type": "markdown",
   "id": "f1a9fa46",
   "metadata": {},
   "source": [
    "### 4.6 Compare Multiple Strategies"
   ]
  },
  {
   "cell_type": "code",
   "execution_count": null,
   "id": "b3687574",
   "metadata": {},
   "outputs": [],
   "source": [
    "# Create portfolios with different optimization strategies\n",
    "strategies = {\n",
    "    'Equal Weight': {ticker: 1/len(tickers) for ticker in tickers},\n",
    "    'Max Sharpe': max_sharpe_weights,\n",
    "    'Min Variance': min_var_weights,\n",
    "    'Risk Parity': risk_parity_weights\n",
    "}\n",
    "\n",
    "# Calculate performance for each\n",
    "comparison_results = []\n",
    "\n",
    "for strategy_name, weights in strategies.items():\n",
    "    p = Portfolio(\n",
    "        weights=weights,\n",
    "        start_date=start_date,\n",
    "        end_date=end_date,\n",
    "        initial_capital=100000\n",
    "    )\n",
    "    m = p.calculate_metrics()\n",
    "    \n",
    "    comparison_results.append({\n",
    "        'Strategy': strategy_name,\n",
    "        'Return': f\"{m['annualized_return']:.2%}\",\n",
    "        'Volatility': f\"{m['volatility']:.2%}\",\n",
    "        'Sharpe': f\"{m['sharpe_ratio']:.3f}\",\n",
    "        'Max DD': f\"{m['max_drawdown']:.2%}\"\n",
    "    })\n",
    "\n",
    "comparison_df = pd.DataFrame(comparison_results)\n",
    "print(\"\\nStrategy Comparison:\")\n",
    "display(comparison_df)"
   ]
  },
  {
   "cell_type": "markdown",
   "id": "48d1249e",
   "metadata": {},
   "source": [
    "### 4.7 Multi-Strategy Performance Chart"
   ]
  },
  {
   "cell_type": "code",
   "execution_count": null,
   "id": "7c672e07",
   "metadata": {},
   "outputs": [],
   "source": [
    "# Compare performance visually\n",
    "import plotly.graph_objects as go\n",
    "\n",
    "fig = go.Figure()\n",
    "colors = ['blue', 'red', 'green', 'purple']\n",
    "\n",
    "for i, (strategy_name, weights) in enumerate(strategies.items()):\n",
    "    p = Portfolio(\n",
    "        weights=weights,\n",
    "        start_date=start_date,\n",
    "        end_date=end_date,\n",
    "        initial_capital=100000\n",
    "    )\n",
    "    portfolio_values = p.calculate_portfolio_value()\n",
    "    \n",
    "    fig.add_trace(go.Scatter(\n",
    "        x=portfolio_values.index,\n",
    "        y=portfolio_values.values,\n",
    "        mode='lines',\n",
    "        name=strategy_name,\n",
    "        line=dict(color=colors[i], width=2)\n",
    "    ))\n",
    "\n",
    "fig.update_layout(\n",
    "    title=\"Strategy Performance Comparison\",\n",
    "    xaxis_title=\"Date\",\n",
    "    yaxis_title=\"Portfolio Value ($)\",\n",
    "    hovermode='x unified',\n",
    "    width=1000,\n",
    "    height=600\n",
    ")\n",
    "fig.show()"
   ]
  },
  {
   "cell_type": "markdown",
   "id": "8a041e86",
   "metadata": {},
   "source": [
    "## Summary\n",
    "\n",
    "This notebook demonstrates:\n",
    "- Loading and configuring portfolios\n",
    "- Analyzing portfolio performance with multiple visualizations\n",
    "- Optimizing portfolios using various strategies\n",
    "- Comparing different approaches\n",
    "\n",
    "**Next Steps:**\n",
    "- Modify the configuration section to test your own portfolios\n",
    "- Comment/uncomment visualization blocks as needed\n",
    "- Experiment with different optimization constraints\n",
    "- Add custom tickers and date ranges"
   ]
  }
 ],
 "metadata": {
  "language_info": {
   "name": "python"
  }
 },
 "nbformat": 4,
 "nbformat_minor": 5
}
